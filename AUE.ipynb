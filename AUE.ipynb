{
 "cells": [
  {
   "cell_type": "code",
   "execution_count": 49,
   "metadata": {},
   "outputs": [],
   "source": [
    "import pandas as pd\n",
    "import numpy as np\n",
    "import sklearn as sk\n",
    "from sklearn.utils import shuffle\n",
    "from sklearn.model_selection import train_test_split"
   ]
  },
  {
   "cell_type": "code",
   "execution_count": 50,
   "metadata": {},
   "outputs": [
    {
     "data": {
      "text/html": [
       "<div>\n",
       "<style scoped>\n",
       "    .dataframe tbody tr th:only-of-type {\n",
       "        vertical-align: middle;\n",
       "    }\n",
       "\n",
       "    .dataframe tbody tr th {\n",
       "        vertical-align: top;\n",
       "    }\n",
       "\n",
       "    .dataframe thead th {\n",
       "        text-align: right;\n",
       "    }\n",
       "</style>\n",
       "<table border=\"1\" class=\"dataframe\">\n",
       "  <thead>\n",
       "    <tr style=\"text-align: right;\">\n",
       "      <th></th>\n",
       "      <th>N</th>\n",
       "      <th>diag</th>\n",
       "      <th>179.977601490947</th>\n",
       "      <th>187.017289595443</th>\n",
       "      <th>215.028876623635</th>\n",
       "      <th>255.249019533848</th>\n",
       "      <th>256.254881878767</th>\n",
       "      <th>269.036304606381</th>\n",
       "      <th>270.847034099571</th>\n",
       "      <th>281.281149724551</th>\n",
       "      <th>...</th>\n",
       "      <th>881.604026599117</th>\n",
       "      <th>881.743101194149</th>\n",
       "      <th>882.737248721799</th>\n",
       "      <th>888.699495388377</th>\n",
       "      <th>889.711762956959</th>\n",
       "      <th>890.706153264347</th>\n",
       "      <th>903.717783977767</th>\n",
       "      <th>916.720925270646</th>\n",
       "      <th>927.709263094043</th>\n",
       "      <th>928.670329107008</th>\n",
       "    </tr>\n",
       "  </thead>\n",
       "  <tbody>\n",
       "    <tr>\n",
       "      <th>2781</th>\n",
       "      <td>2782</td>\n",
       "      <td>5</td>\n",
       "      <td>0.000000</td>\n",
       "      <td>0.000000</td>\n",
       "      <td>0.0</td>\n",
       "      <td>0.00000</td>\n",
       "      <td>0.000000</td>\n",
       "      <td>0.000000</td>\n",
       "      <td>0.000000</td>\n",
       "      <td>0.000000</td>\n",
       "      <td>...</td>\n",
       "      <td>0.0</td>\n",
       "      <td>0.000000</td>\n",
       "      <td>0.000000</td>\n",
       "      <td>0.0</td>\n",
       "      <td>0.000000</td>\n",
       "      <td>0.0</td>\n",
       "      <td>0.0</td>\n",
       "      <td>0.0</td>\n",
       "      <td>0.0</td>\n",
       "      <td>0.0</td>\n",
       "    </tr>\n",
       "    <tr>\n",
       "      <th>7412</th>\n",
       "      <td>7413</td>\n",
       "      <td>35</td>\n",
       "      <td>0.000250</td>\n",
       "      <td>0.000000</td>\n",
       "      <td>0.0</td>\n",
       "      <td>0.00000</td>\n",
       "      <td>0.000000</td>\n",
       "      <td>0.000000</td>\n",
       "      <td>0.000000</td>\n",
       "      <td>0.000000</td>\n",
       "      <td>...</td>\n",
       "      <td>0.0</td>\n",
       "      <td>0.000000</td>\n",
       "      <td>0.000000</td>\n",
       "      <td>0.0</td>\n",
       "      <td>0.000000</td>\n",
       "      <td>0.0</td>\n",
       "      <td>0.0</td>\n",
       "      <td>0.0</td>\n",
       "      <td>0.0</td>\n",
       "      <td>0.0</td>\n",
       "    </tr>\n",
       "    <tr>\n",
       "      <th>11179</th>\n",
       "      <td>11180</td>\n",
       "      <td>5</td>\n",
       "      <td>0.000000</td>\n",
       "      <td>0.000293</td>\n",
       "      <td>0.0</td>\n",
       "      <td>0.00000</td>\n",
       "      <td>0.000082</td>\n",
       "      <td>0.000546</td>\n",
       "      <td>0.000000</td>\n",
       "      <td>0.000085</td>\n",
       "      <td>...</td>\n",
       "      <td>0.0</td>\n",
       "      <td>0.000000</td>\n",
       "      <td>0.000000</td>\n",
       "      <td>0.0</td>\n",
       "      <td>0.000000</td>\n",
       "      <td>0.0</td>\n",
       "      <td>0.0</td>\n",
       "      <td>0.0</td>\n",
       "      <td>0.0</td>\n",
       "      <td>0.0</td>\n",
       "    </tr>\n",
       "    <tr>\n",
       "      <th>4770</th>\n",
       "      <td>4771</td>\n",
       "      <td>2</td>\n",
       "      <td>0.000000</td>\n",
       "      <td>0.000000</td>\n",
       "      <td>0.0</td>\n",
       "      <td>0.00000</td>\n",
       "      <td>0.000000</td>\n",
       "      <td>0.000000</td>\n",
       "      <td>0.000000</td>\n",
       "      <td>0.000000</td>\n",
       "      <td>...</td>\n",
       "      <td>0.0</td>\n",
       "      <td>0.000000</td>\n",
       "      <td>0.000000</td>\n",
       "      <td>0.0</td>\n",
       "      <td>0.301301</td>\n",
       "      <td>0.0</td>\n",
       "      <td>0.0</td>\n",
       "      <td>0.0</td>\n",
       "      <td>0.0</td>\n",
       "      <td>0.0</td>\n",
       "    </tr>\n",
       "    <tr>\n",
       "      <th>15228</th>\n",
       "      <td>15229</td>\n",
       "      <td>0</td>\n",
       "      <td>0.024047</td>\n",
       "      <td>0.041352</td>\n",
       "      <td>0.0</td>\n",
       "      <td>0.31489</td>\n",
       "      <td>0.047143</td>\n",
       "      <td>0.000000</td>\n",
       "      <td>0.054224</td>\n",
       "      <td>0.110708</td>\n",
       "      <td>...</td>\n",
       "      <td>0.0</td>\n",
       "      <td>0.028031</td>\n",
       "      <td>0.015366</td>\n",
       "      <td>0.0</td>\n",
       "      <td>0.000000</td>\n",
       "      <td>0.0</td>\n",
       "      <td>0.0</td>\n",
       "      <td>0.0</td>\n",
       "      <td>0.0</td>\n",
       "      <td>0.0</td>\n",
       "    </tr>\n",
       "  </tbody>\n",
       "</table>\n",
       "<p>5 rows × 195 columns</p>\n",
       "</div>"
      ],
      "text/plain": [
       "           N  diag  179.977601490947  187.017289595443  215.028876623635  \\\n",
       "2781    2782     5          0.000000          0.000000               0.0   \n",
       "7412    7413    35          0.000250          0.000000               0.0   \n",
       "11179  11180     5          0.000000          0.000293               0.0   \n",
       "4770    4771     2          0.000000          0.000000               0.0   \n",
       "15228  15229     0          0.024047          0.041352               0.0   \n",
       "\n",
       "       255.249019533848  256.254881878767  269.036304606381  270.847034099571  \\\n",
       "2781            0.00000          0.000000          0.000000          0.000000   \n",
       "7412            0.00000          0.000000          0.000000          0.000000   \n",
       "11179           0.00000          0.000082          0.000546          0.000000   \n",
       "4770            0.00000          0.000000          0.000000          0.000000   \n",
       "15228           0.31489          0.047143          0.000000          0.054224   \n",
       "\n",
       "       281.281149724551  ...  881.604026599117  881.743101194149  \\\n",
       "2781           0.000000  ...               0.0          0.000000   \n",
       "7412           0.000000  ...               0.0          0.000000   \n",
       "11179          0.000085  ...               0.0          0.000000   \n",
       "4770           0.000000  ...               0.0          0.000000   \n",
       "15228          0.110708  ...               0.0          0.028031   \n",
       "\n",
       "       882.737248721799  888.699495388377  889.711762956959  890.706153264347  \\\n",
       "2781           0.000000               0.0          0.000000               0.0   \n",
       "7412           0.000000               0.0          0.000000               0.0   \n",
       "11179          0.000000               0.0          0.000000               0.0   \n",
       "4770           0.000000               0.0          0.301301               0.0   \n",
       "15228          0.015366               0.0          0.000000               0.0   \n",
       "\n",
       "       903.717783977767  916.720925270646  927.709263094043  928.670329107008  \n",
       "2781                0.0               0.0               0.0               0.0  \n",
       "7412                0.0               0.0               0.0               0.0  \n",
       "11179               0.0               0.0               0.0               0.0  \n",
       "4770                0.0               0.0               0.0               0.0  \n",
       "15228               0.0               0.0               0.0               0.0  \n",
       "\n",
       "[5 rows x 195 columns]"
      ]
     },
     "execution_count": 50,
     "metadata": {},
     "output_type": "execute_result"
    }
   ],
   "source": [
    "data = pd.read_csv('featureTable.tsv', sep = '\\t')\n",
    "data = shuffle(data)\n",
    "data.head()"
   ]
  },
  {
   "cell_type": "code",
   "execution_count": 51,
   "metadata": {},
   "outputs": [
    {
     "data": {
      "text/plain": [
       "5     6264\n",
       "2     3847\n",
       "0     2308\n",
       "35    1531\n",
       "37     880\n",
       "8      640\n",
       "28     255\n",
       "7      254\n",
       "Name: diag, dtype: int64"
      ]
     },
     "execution_count": 51,
     "metadata": {},
     "output_type": "execute_result"
    }
   ],
   "source": [
    "data_diag = data['diag']\n",
    "data_diag.value_counts()"
   ]
  },
  {
   "cell_type": "markdown",
   "metadata": {},
   "source": [
    "Оставляем 35, 0, 2, 5"
   ]
  },
  {
   "cell_type": "code",
   "execution_count": 52,
   "metadata": {},
   "outputs": [
    {
     "data": {
      "text/plain": [
       "(13950, 195)"
      ]
     },
     "execution_count": 52,
     "metadata": {},
     "output_type": "execute_result"
    }
   ],
   "source": [
    "new_data = data.drop(data[(data.diag == 8) | (data.diag == 7) | (data.diag == 37) | (data.diag == 28)].index)\n",
    "new_data.head()\n",
    "new_data.shape"
   ]
  },
  {
   "cell_type": "code",
   "execution_count": 53,
   "metadata": {},
   "outputs": [
    {
     "data": {
      "text/plain": [
       "5     6264\n",
       "2     3847\n",
       "0     2308\n",
       "35    1531\n",
       "Name: diag, dtype: int64"
      ]
     },
     "execution_count": 53,
     "metadata": {},
     "output_type": "execute_result"
    }
   ],
   "source": [
    "new_data_diag = new_data['diag']\n",
    "new_data_diag.value_counts()"
   ]
  },
  {
   "cell_type": "code",
   "execution_count": 54,
   "metadata": {},
   "outputs": [
    {
     "data": {
      "text/plain": [
       "(13950, 193)"
      ]
     },
     "execution_count": 54,
     "metadata": {},
     "output_type": "execute_result"
    }
   ],
   "source": [
    "data_x = new_data.drop(columns = ['N', 'diag'])\n",
    "data_x.head()\n",
    "data_x.shape"
   ]
  },
  {
   "cell_type": "code",
   "execution_count": 55,
   "metadata": {},
   "outputs": [
    {
     "name": "stdout",
     "output_type": "stream",
     "text": [
      "[2]\n"
     ]
    }
   ],
   "source": [
    "data_y = np.array(new_data.loc[:,['diag']])\n",
    "print(data_y[2000])"
   ]
  },
  {
   "cell_type": "code",
   "execution_count": 56,
   "metadata": {},
   "outputs": [
    {
     "name": "stdout",
     "output_type": "stream",
     "text": [
      "[0. 0. 1. 0.]\n"
     ]
    }
   ],
   "source": [
    "new_data_y = np.zeros((data_y.shape[0], 4))\n",
    "for i in range(data_y.shape[0]):\n",
    "    if data_y[i][0] == 35:\n",
    "        new_data_y[i][0] = 1\n",
    "    if data_y[i][0] == 0:\n",
    "        new_data_y[i][1] = 1\n",
    "    if data_y[i][0] == 2:\n",
    "        new_data_y[i][2] = 1\n",
    "    if data_y[i][0] == 5:\n",
    "        new_data_y[i][3] = 1\n",
    "print(new_data_y[2000])"
   ]
  },
  {
   "cell_type": "code",
   "execution_count": 67,
   "metadata": {},
   "outputs": [],
   "source": [
    "x, y = sk.model_selection.train_test_split(data)"
   ]
  },
  {
   "cell_type": "code",
   "execution_count": null,
   "metadata": {},
   "outputs": [],
   "source": []
  },
  {
   "cell_type": "code",
   "execution_count": null,
   "metadata": {},
   "outputs": [],
   "source": []
  }
 ],
 "metadata": {
  "kernelspec": {
   "display_name": "Python 3",
   "language": "python",
   "name": "python3"
  },
  "language_info": {
   "codemirror_mode": {
    "name": "ipython",
    "version": 3
   },
   "file_extension": ".py",
   "mimetype": "text/x-python",
   "name": "python",
   "nbconvert_exporter": "python",
   "pygments_lexer": "ipython3",
   "version": "3.7.3"
  }
 },
 "nbformat": 4,
 "nbformat_minor": 2
}
